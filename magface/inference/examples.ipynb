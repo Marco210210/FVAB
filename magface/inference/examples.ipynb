{
 "cells": [
  {
   "cell_type": "markdown",
   "metadata": {},
   "source": [
    "# generate feature list\n",
    "```\n",
    "python3 gen_feat.py --inf_list img/img.list --feat_list img/feat.list --resume magface_epoch_00025.pth\n",
    "```"
   ]
  },
  {
   "cell_type": "code",
   "execution_count": null,
   "metadata": {},
   "outputs": [],
   "source": [
    "import numpy as np\n",
    "import math\n",
    "import cv2\n",
    "from matplotlib import pyplot as plt\n",
    "import seaborn as sns\n",
    "sns.set(style=\"white\") \n",
    "%matplotlib inline"
   ]
  },
  {
   "cell_type": "markdown",
   "metadata": {},
   "source": [
    "# Visualize magnitudes (qualities)"
   ]
  },
  {
   "cell_type": "code",
   "execution_count": null,
   "metadata": {},
   "outputs": [],
   "source": [
    "def imshow(img):\n",
    "    plt.imshow(cv2.cvtColor(img, cv2.COLOR_BGR2RGB))\n",
    "def show(idx_):\n",
    "    imgname = imgnames[idx_]\n",
    "    img = cv2.imread(imgname)\n",
    "    imshow(img)\n",
    "    print(img_2_mag[imgname], imgname)    "
   ]
  },
  {
   "cell_type": "code",
   "execution_count": null,
   "metadata": {},
   "outputs": [],
   "source": [
    "with open('img/feat.list', 'r') as f:\n",
    "    lines = f.readlines()"
   ]
  },
  {
   "cell_type": "code",
   "execution_count": null,
   "metadata": {},
   "outputs": [],
   "source": [
    "img_2_feats = {}\n",
    "img_2_mag = {}\n",
    "for line in lines:\n",
    "    parts = line.strip().split(' ')\n",
    "    imgname = parts[0]\n",
    "    feats = [float(e) for e in parts[1:]]\n",
    "    mag = np.linalg.norm(feats)\n",
    "    img_2_feats[imgname] = feats/mag\n",
    "    img_2_mag[imgname] = mag"
   ]
  },
  {
   "cell_type": "code",
   "execution_count": null,
   "metadata": {},
   "outputs": [],
   "source": [
    "imgnames = list(img_2_mag.keys())\n",
    "mags = [img_2_mag[imgname] for imgname in imgnames]\n",
    "sort_idx = np.argsort(mags)"
   ]
  },
  {
   "cell_type": "code",
   "execution_count": null,
   "metadata": {},
   "outputs": [],
   "source": [
    "H, W = 112, 112\n",
    "NW = 9\n",
    "# Calcola automaticamente il numero di righe in base al numero di immagini\n",
    "NH = math.ceil(108 / NW)\n",
    "canvas = np.zeros((NH * H, NW * W, 3), np.uint8)\n",
    "\n",
    "for i, ele in enumerate(sort_idx):\n",
    "    imgname = '/'.join(imgnames[ele].split('/')[-2:])\n",
    "    img = cv2.imread(imgname)\n",
    "    canvas[int(i / NW) * H: (int(i / NW) + 1) * H, (i % NW) * W: ((i % NW) + 1) * W, :] = img    "
   ]
  },
  {
   "cell_type": "code",
   "execution_count": null,
   "metadata": {},
   "outputs": [],
   "source": [
    "plt.figure(figsize=(20, 20))\n",
    "print([float('{0:.2f}'.format(mags[idx_])) for idx_ in sort_idx])\n",
    "imshow(canvas)"
   ]
  },
  {
   "cell_type": "markdown",
   "metadata": {},
   "source": [
    "# visualize recognition"
   ]
  },
  {
   "cell_type": "code",
   "execution_count": null,
   "metadata": {},
   "outputs": [],
   "source": [
    "feats = np.array([img_2_feats[imgnames[ele]] for ele in sort_idx])\n",
    "sim_mat = np.dot(feats, feats.T)"
   ]
  },
  {
   "cell_type": "code",
   "execution_count": null,
   "metadata": {},
   "outputs": [],
   "source": [
    "fig, ax = plt.subplots(figsize=(10, 8))  # Creazione della figura per la heatmap\n",
    "sns.heatmap(sim_mat, cmap=\"coolwarm\", annot=False, cbar=True, linewidths=0.5, ax=ax)  # Mappa di calore senza annotazioni\n",
    "\n",
    "# Aggiungi un titolo\n",
    "ax.set_title(\"Matrice di Similarità\", fontsize=16)\n",
    "plt.show()"
   ]
  }
 ],
 "metadata": {
  "kernelspec": {
   "display_name": "env",
   "language": "python",
   "name": "python3"
  },
  "language_info": {
   "codemirror_mode": {
    "name": "ipython",
    "version": 3
   },
   "file_extension": ".py",
   "mimetype": "text/x-python",
   "name": "python",
   "nbconvert_exporter": "python",
   "pygments_lexer": "ipython3",
   "version": "3.11.0"
  }
 },
 "nbformat": 4,
 "nbformat_minor": 4
}
